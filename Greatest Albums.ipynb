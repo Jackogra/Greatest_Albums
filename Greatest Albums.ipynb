{
 "cells": [
  {
   "cell_type": "markdown",
   "metadata": {},
   "source": [
    "Task: Greatest Albums\n",
    "Load the all-time best-selling albums database into Pandas.\n",
    "https://www.officialcharts.com/chart-news/the-best-selling-albums-of-all-time-on-the-official-uk-chart__15551/\n",
    "\n",
    "1. Change the column headers to their Polish equivalents: ['TYTUŁ','ARTYSTA','ROK','MAX POZ']\n",
    "2. How many solo artists are on the list?\n",
    "3. Which bands appear most frequently on the list?\n",
    "4. Change the column headers so that each one starts with a capital letter and the rest are in   lowercase.\n",
    "5. Remove the column ‘Max Poz’ from the table.\n",
    "6. In which year were the most albums on the list released?\n",
    "7. How many albums released between 1960 and 1990 inclusive are on the list?\n",
    "8. In which year was the most recent album on the list released?\n",
    "9. Prepare a list of the earliest released album by each artist who is on the list.\n",
    "10. Save the list to a CSV file."
   ]
  },
  {
   "cell_type": "code",
   "execution_count": 8,
   "metadata": {},
   "outputs": [],
   "source": [
    "# import python modules\n",
    "import numpy as np\n",
    "import pandas as pd"
   ]
  },
  {
   "cell_type": "code",
   "execution_count": 11,
   "metadata": {},
   "outputs": [],
   "source": [
    "# Importing data from the HTML source\n",
    "greatest_albums = pd.read_html('https://www.officialcharts.com/chart-news/the-best-selling-albums-of-all-time-on-the-official-uk-chart__15551/', header=0)"
   ]
  },
  {
   "cell_type": "code",
   "execution_count": null,
   "metadata": {},
   "outputs": [],
   "source": []
  }
 ],
 "metadata": {
  "kernelspec": {
   "display_name": "Python 3",
   "language": "python",
   "name": "python3"
  },
  "language_info": {
   "codemirror_mode": {
    "name": "ipython",
    "version": 3
   },
   "file_extension": ".py",
   "mimetype": "text/x-python",
   "name": "python",
   "nbconvert_exporter": "python",
   "pygments_lexer": "ipython3",
   "version": "3.8.5"
  }
 },
 "nbformat": 4,
 "nbformat_minor": 4
}
