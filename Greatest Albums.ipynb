{
 "cells": [
  {
   "cell_type": "markdown",
   "metadata": {},
   "source": [
    "Task: Greatest Albums\n",
    "Load the all-time best-selling albums database into Pandas.\n",
    "https://www.officialcharts.com/chart-news/the-best-selling-albums-of-all-time-on-the-official-uk-chart__15551/\n",
    "\n",
    "1. Change the column headers to their Polish equivalents: ['TYTUŁ','ARTYSTA','ROK','MAX POZ']\n",
    "2. How many solo artists are on the list?\n",
    "3. Which bands appear most frequently on the list?\n",
    "4. Change the column headers so that each one starts with a capital letter and the rest are in   lowercase.\n",
    "5. Remove the column ‘Max Poz’ from the table.\n",
    "6. In which year were the most albums on the list released?\n",
    "7. How many albums released between 1960 and 1990 inclusive are on the list?\n",
    "8. In which year was the most recent album on the list released?\n",
    "9. Prepare a list of the earliest released album by each artist who is on the list.\n",
    "10. Save the list to a CSV file."
   ]
  },
  {
   "cell_type": "code",
   "execution_count": 90,
   "metadata": {},
   "outputs": [],
   "source": [
    "# import python modules\n",
    "import numpy as np\n",
    "import pandas as pd"
   ]
  },
  {
   "cell_type": "code",
   "execution_count": 91,
   "metadata": {},
   "outputs": [],
   "source": [
    "# Importing data from the HTML source and assigning it to variable\n",
    "greatest_albums = pd.read_html('https://www.officialcharts.com/chart-news/the-best-selling-albums-of-all-time-on-the-official-uk-chart__15551/', header=0)"
   ]
  },
  {
   "cell_type": "code",
   "execution_count": 92,
   "metadata": {
    "scrolled": false
   },
   "outputs": [],
   "source": [
    "df = greatest_albums[0]"
   ]
  },
  {
   "cell_type": "code",
   "execution_count": 93,
   "metadata": {},
   "outputs": [],
   "source": [
    "# 1. Changing column header names\n",
    "df = df.rename(columns={'TITLE':'TYTUŁ', 'ARTIST':'ARTYSTA', 'YEAR':'ROK', 'HIGH POSN':'MAX POZ'})"
   ]
  },
  {
   "cell_type": "code",
   "execution_count": 95,
   "metadata": {},
   "outputs": [
    {
     "name": "stdout",
     "output_type": "stream",
     "text": [
      "There is 47 artists on the 60 album list.\n"
     ]
    }
   ],
   "source": [
    "# 2. Checking how many artist is on the list\n",
    "number_of_artists = df['ARTYSTA'].nunique()\n",
    "print(f\"There is {number_of_artists} artists on the 60 album list.\")"
   ]
  },
  {
   "cell_type": "code",
   "execution_count": 96,
   "metadata": {},
   "outputs": [
    {
     "name": "stdout",
     "output_type": "stream",
     "text": [
      "The following artist(s) apper on the list the most times:\n",
      "0     COLDPLAY\n",
      "1    TAKE THAT\n",
      "dtype: object\n"
     ]
    }
   ],
   "source": [
    "# 3. Checking which artist appers the most times on the list\n",
    "most_common_artist = df['ARTYSTA'].mode()\n",
    "print('The following artist(s) apper on the list the most times:')\n",
    "print(most_common_artist)"
   ]
  },
  {
   "cell_type": "code",
   "execution_count": 97,
   "metadata": {},
   "outputs": [],
   "source": [
    "# 4. Changing column headers to Capitalized\n",
    "df = df.rename(str.capitalize, axis='columns')"
   ]
  },
  {
   "cell_type": "code",
   "execution_count": 98,
   "metadata": {},
   "outputs": [],
   "source": [
    "# 5. Droping column 'Max poz' from the dataframe\n",
    "df = df.drop('Max poz', axis=1)"
   ]
  },
  {
   "cell_type": "code",
   "execution_count": 99,
   "metadata": {},
   "outputs": [
    {
     "name": "stdout",
     "output_type": "stream",
     "text": [
      "The year(s) in which the most albums were released:\n",
      "0    1987\n",
      "1    2000\n",
      "dtype: int64\n"
     ]
    }
   ],
   "source": [
    "# 6. Checking in which year the most albums from the list was released\n",
    "best_year = df['Rok'].mode()\n",
    "print(\"The year(s) in which the most albums were released:\")\n",
    "print(best_year)"
   ]
  },
  {
   "cell_type": "code",
   "execution_count": 106,
   "metadata": {},
   "outputs": [
    {
     "name": "stdout",
     "output_type": "stream",
     "text": [
      "The following albums were relesed from 1960 until end of 1990:\n",
      "    Pos                                 Tytuł                   Artysta   Rok\n",
      "0     1                         GREATEST HITS                     QUEEN  1981\n",
      "2     3  SGT PEPPER'S LONELY HEARTS CLUB BAND                   BEATLES  1967\n",
      "5     6                              THRILLER           MICHAEL JACKSON  1982\n",
      "6     7             THE DARK SIDE OF THE MOON                PINK FLOYD  1973\n",
      "7     8                      BROTHERS IN ARMS              DIRE STRAITS  1985\n",
      "8     9                                   BAD           MICHAEL JACKSON  1987\n",
      "10   11                               RUMOURS             FLEETWOOD MAC  1977\n",
      "11   12             THE IMMACULATE COLLECTION                   MADONNA  1990\n",
      "15   16                                LEGEND  BOB MARLEY & THE WAILERS  1984\n",
      "18   19                       BAT OUT OF HELL                 MEAT LOAF  1977\n",
      "20   21            BRIDGE OVER TROUBLED WATER         SIMON & GARFUNKEL  1970\n",
      "21   22                         DIRTY DANCING       ORIGINAL SOUNDTRACK  1987\n",
      "35   36                       THE JOSHUA TREE                        U2  1987\n",
      "36   37                 THE WAR OF THE WORLDS                JEFF WAYNE  1978\n",
      "38   39                         BUT SERIOUSLY              PHIL COLLINS  1989\n",
      "41   42                         TUBULAR BELLS             MIKE OLDFIELD  1973\n",
      "43   44                         TRACY CHAPMAN             TRACY CHAPMAN  1988\n",
      "45   46                         GREATEST HITS                      ABBA  1975\n",
      "46   47                                GREASE       ORIGINAL SOUNDTRACK  1977\n",
      "50   51                             GRACELAND                PAUL SIMON  1986\n",
      "51   52                    THE SOUND OF MUSIC   ORIGINAL CAST RECORDING  1965\n",
      "53   54                    TANGO IN THE NIGHT             FLEETWOOD MAC  1987\n"
     ]
    }
   ],
   "source": [
    "# 7. Checking how many albums were released between 1960-1990\n",
    "albums_from_period = df[(df['Rok']>=1960) & (df['Rok']<=1990)]\n",
    "print('The following albums were relesed from 1960 until end of 1990:')\n",
    "print(albums_from_period)"
   ]
  },
  {
   "cell_type": "code",
   "execution_count": 110,
   "metadata": {},
   "outputs": [
    {
     "name": "stdout",
     "output_type": "stream",
     "text": [
      "The newest album on the list was released in year 2015.\n"
     ]
    }
   ],
   "source": [
    "# 8. Checking in which year was the newest album released\n",
    "newest_year_of_release = df['Rok'].max()\n",
    "print(f\"The newest album on the list was released in year {newest_year_of_release}.\")"
   ]
  },
  {
   "cell_type": "code",
   "execution_count": 114,
   "metadata": {},
   "outputs": [
    {
     "name": "stdout",
     "output_type": "stream",
     "text": [
      "List of the earliest released album by each artist:\n",
      "                     Artysta                                   Tytuł   Rok\n",
      "45                      ABBA                           GREATEST HITS  1975\n",
      "3                      ADELE                                      21  2011\n",
      "40         ALANIS MORISSETTE                      JAGGED LITTLE PILL  1995\n",
      "12             AMY WINEHOUSE                           BACK TO BLACK  2006\n",
      "2                    BEATLES    SGT PEPPER'S LONELY HEARTS CLUB BAND  1967\n",
      "15  BOB MARLEY & THE WAILERS                                  LEGEND  1984\n",
      "44                  COLDPLAY                              PARACHUTES  2000\n",
      "27                     CORRS                         TALK ON CORNERS  1997\n",
      "25                DAVID GRAY                            WHITE LADDER  1998\n",
      "24                      DIDO                                NO ANGEL  2000\n",
      "7               DIRE STRAITS                        BROTHERS IN ARMS  1985\n",
      "48                ED SHEERAN                                       X  2014\n",
      "54                    EMINEM                 THE MARSHALL MATHERS LP  2000\n",
      "10             FLEETWOOD MAC                                 RUMOURS  1977\n",
      "52            GEORGE MICHAEL        LADIES & GENTLEMEN - THE BEST OF  1998\n",
      "16               JAMES BLUNT                          BACK TO BEDLAM  2004\n",
      "36                JEFF WAYNE                   THE WAR OF THE WORLDS  1978\n",
      "34                     KEANE                         HOPES AND FEARS  2004\n",
      "32             KINGS OF LEON                       ONLY BY THE NIGHT  2008\n",
      "29                 LADY GAGA                                THE FAME  2008\n",
      "22               LEONA LEWIS                                  SPIRIT  2007\n",
      "11                   MADONNA               THE IMMACULATE COLLECTION  1990\n",
      "18                 MEAT LOAF                         BAT OUT OF HELL  1977\n",
      "23             MICHAEL BUBLE                              CRAZY LOVE  2009\n",
      "5            MICHAEL JACKSON                                THRILLER  1982\n",
      "41             MIKE OLDFIELD                           TUBULAR BELLS  1973\n",
      "49               NORAH JONES                       COME AWAY WITH ME  2002\n",
      "4                      OASIS          WHAT'S THE STORY MORNING GLORY  1995\n",
      "51   ORIGINAL CAST RECORDING                      THE SOUND OF MUSIC  1965\n",
      "46       ORIGINAL SOUNDTRACK                                  GREASE  1977\n",
      "50                PAUL SIMON                               GRACELAND  1986\n",
      "38              PHIL COLLINS                           BUT SERIOUSLY  1989\n",
      "6                 PINK FLOYD               THE DARK SIDE OF THE MOON  1973\n",
      "0                      QUEEN                           GREATEST HITS  1981\n",
      "59                       REM                AUTOMATIC FOR THE PEOPLE  1992\n",
      "47           ROBBIE WILLIAMS                 I'VE BEEN EXPECTING YOU  1998\n",
      "37           SCISSOR SISTERS                         SCISSOR SISTERS  2004\n",
      "14              SHANIA TWAIN                            COME ON OVER  1997\n",
      "20         SIMON & GARFUNKEL              BRIDGE OVER TROUBLED WATER  1970\n",
      "13                SIMPLY RED                                   STARS  1991\n",
      "57               SNOW PATROL                               EYES OPEN  2006\n",
      "28               SPICE GIRLS                                   SPICE  1996\n",
      "58                 TAKE THAT  NEVER FORGET - THE ULTIMATE COLLECTION  2005\n",
      "43             TRACY CHAPMAN                           TRACY CHAPMAN  1988\n",
      "42                    TRAVIS                             THE MAN WHO  1999\n",
      "35                        U2                         THE JOSHUA TREE  1987\n",
      "17                     VERVE                             URBAN HYMNS  1997\n"
     ]
    }
   ],
   "source": [
    "# 9. Preparing a list of earliest released albums per artist\n",
    "earliest_albums = df.loc[df.groupby('Artysta')['Rok'].idxmin()]\n",
    "print(\"List of the earliest released album by each artist:\")\n",
    "print(earliest_albums[['Artysta', \"Tytuł\", \"Rok\"]])"
   ]
  },
  {
   "cell_type": "code",
   "execution_count": 116,
   "metadata": {},
   "outputs": [],
   "source": [
    "# 10. Exporting list of the earliest released albums per artist to .csv file\n",
    "earliest_albums[['Artysta', 'Tytuł', 'Rok']].to_csv('earliest_albums_per_artist.csv', index=False)"
   ]
  },
  {
   "cell_type": "code",
   "execution_count": null,
   "metadata": {},
   "outputs": [],
   "source": []
  }
 ],
 "metadata": {
  "kernelspec": {
   "display_name": "Python 3",
   "language": "python",
   "name": "python3"
  },
  "language_info": {
   "codemirror_mode": {
    "name": "ipython",
    "version": 3
   },
   "file_extension": ".py",
   "mimetype": "text/x-python",
   "name": "python",
   "nbconvert_exporter": "python",
   "pygments_lexer": "ipython3",
   "version": "3.8.5"
  }
 },
 "nbformat": 4,
 "nbformat_minor": 4
}
